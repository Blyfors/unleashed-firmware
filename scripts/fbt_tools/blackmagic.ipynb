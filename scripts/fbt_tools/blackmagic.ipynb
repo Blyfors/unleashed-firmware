{
 "cells": [
  {
   "cell_type": "code",
   "execution_count": 1,
   "metadata": {},
   "outputs": [
    {
     "ename": "SyntaxError",
     "evalue": "invalid decimal literal (3250466740.py, line 1)",
     "output_type": "error",
     "traceback": [
      "\u001b[1;36m  Cell \u001b[1;32mIn[1], line 1\u001b[1;36m\u001b[0m\n\u001b[1;33m    set FBT_VERBOSE=1.sudo apt autoremovefrom SCons.Errors import StopError\u001b[0m\n\u001b[1;37m                     ^\u001b[0m\n\u001b[1;31mSyntaxError\u001b[0m\u001b[1;31m:\u001b[0m invalid decimal literal\n"
     ]
    }
   ],
   "source": [
    "set FBT_VERBOSE=1.sudo apt autoremovefrom SCons.Errors import StopError\n",
    "\n",
    "\n",
    "class BlackmagicResolver:\n",
    "    BLACKMAGIC_HOSTNAME = \"blackmagic.local\"\n",
    "\n",
    "    def __init__(self, env):\n",
    "        self.env = env\n",
    "\n",
    "    # On Win:\n",
    "    #    'location': '1-5:x.0', 'name': 'COM4',\n",
    "    #    'location': '1-5:x.2', 'name': 'COM13',\n",
    "    # On Linux:\n",
    "    #    'location': '1-1.2:1.0', 'name': 'ttyACM0',\n",
    "    #    'location': '1-1.2:1.2', 'name': 'ttyACM1',\n",
    "    # On MacOS:\n",
    "    #    'location': '0-1.3', 'name': 'cu.usbmodemblackmagic1',\n",
    "    #    'location': '0-1.3', 'name': 'cu.usbmodemblackmagic3',\n",
    "    def _find_probe(self):\n",
    "        import serial.tools.list_ports as list_ports\n",
    "\n",
    "        ports = list(list_ports.grep(\"blackmagic\"))\n",
    "        if len(ports) == 0:\n",
    "            # Blackmagic probe serial port not found, will be handled later\n",
    "            pass\n",
    "        elif len(ports) > 2:\n",
    "            raise StopError(\"More than one Blackmagic probe found\")\n",
    "        else:\n",
    "            # If you're getting any issues with auto lookup, uncomment this\n",
    "            # print(\"\\n\".join([f\"{p.device} {vars(p)}\" for p in ports]))\n",
    "            return sorted(ports, key=lambda p: f\"{p.location}_{p.name}\")[0]\n",
    "\n",
    "    # Look up blackmagic probe hostname with dns\n",
    "    def _resolve_hostname(self):\n",
    "        import socket\n",
    "\n",
    "        try:\n",
    "            return socket.gethostbyname(self.BLACKMAGIC_HOSTNAME)\n",
    "        except socket.gaierror:\n",
    "            print(\"Failed to resolve Blackmagic hostname\")\n",
    "            return None\n",
    "\n",
    "    def get_serial(self):\n",
    "        if not (probe := self._find_probe()):\n",
    "            return None\n",
    "        # print(f\"Found Blackmagic probe on {probe.device}\")\n",
    "        if self.env.subst(\"$PLATFORM\") == \"win32\":\n",
    "            return f\"\\\\\\\\.\\\\{probe.device}\"\n",
    "        return probe.device\n",
    "\n",
    "    def get_networked(self):\n",
    "        if not (probe := self._resolve_hostname()):\n",
    "            return None\n",
    "\n",
    "        return f\"tcp:{probe}:2345\"\n",
    "\n",
    "    def __str__(self):\n",
    "        # print(\"distenv blackmagic\", self.env.subst(\"$BLACKMAGIC\"))\n",
    "        if (blackmagic := self.env.subst(\"$BLACKMAGIC\")) != \"auto\":\n",
    "            return blackmagic\n",
    "\n",
    "        # print(\"Looking for Blackmagic...\")\n",
    "        if probe := self.get_serial() or self.get_networked():\n",
    "            return probe\n",
    "\n",
    "        raise StopError(\"Please specify BLACKMAGIC=...\")\n",
    "\n",
    "\n",
    "def generate(env):\n",
    "    env.SetDefault(BLACKMAGIC_ADDR=BlackmagicResolver(env))\n",
    "\n",
    "\n",
    "def exists(env):\n",
    "    return True"
   ]
  },
  {
   "cell_type": "code",
   "execution_count": null,
   "metadata": {},
   "outputs": [],
   "source": []
  }
 ],
 "metadata": {
  "kernelspec": {
   "display_name": ".venv",
   "language": "python",
   "name": "python3"
  },
  "language_info": {
   "codemirror_mode": {
    "name": "ipython",
    "version": 3
   },
   "file_extension": ".py",
   "mimetype": "text/x-python",
   "name": "python",
   "nbconvert_exporter": "python",
   "pygments_lexer": "ipython3",
   "version": "3.12.1"
  }
 },
 "nbformat": 4,
 "nbformat_minor": 2
}
